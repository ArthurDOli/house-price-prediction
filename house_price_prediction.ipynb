{
  "nbformat": 4,
  "nbformat_minor": 0,
  "metadata": {
    "colab": {
      "provenance": [],
      "gpuType": "T4",
      "authorship_tag": "ABX9TyOj6g6Y6f1BvHlk4khi6mhK"
    },
    "kernelspec": {
      "name": "python3",
      "display_name": "Python 3"
    },
    "language_info": {
      "name": "python"
    },
    "accelerator": "GPU"
  },
  "cells": [
    {
      "cell_type": "code",
      "source": [
        "import pandas as pd\n",
        "import numpy as np\n",
        "from sklearn.pipeline import Pipeline\n",
        "from sklearn.impute import SimpleImputer\n",
        "from sklearn.preprocessing import StandardScaler, OneHotEncoder, OrdinalEncoder\n",
        "from sklearn.compose import ColumnTransformer\n",
        "from xgboost import XGBRegressor\n",
        "from sklearn.model_selection import RandomizedSearchCV"
      ],
      "metadata": {
        "id": "w7lqURvI3Egz"
      },
      "execution_count": null,
      "outputs": []
    },
    {
      "cell_type": "code",
      "source": [
        "df_train = pd.read_csv('train.csv')\n",
        "df_test = pd.read_csv('test.csv')\n",
        "\n",
        "df_train['SalePrice'] = np.log1p(df_train['SalePrice'])\n",
        "\n",
        "cols_ingredientes = ['TotalBsmtSF', '1stFlrSF', '2ndFlrSF', 'FullBath', 'HalfBath', 'BsmtFullBath', 'BsmtHalfBath']\n",
        "imputer_ingredientes = SimpleImputer(strategy='median')\n",
        "\n",
        "y = df_train['SalePrice']\n",
        "X = df_train.drop('SalePrice', axis=1)\n",
        "\n",
        "imputer_ingredientes.fit(X[cols_ingredientes])\n",
        "\n",
        "X[cols_ingredientes] = imputer_ingredientes.transform(X[cols_ingredientes])\n",
        "df_test[cols_ingredientes] = imputer_ingredientes.transform(df_test[cols_ingredientes])\n",
        "\n",
        "X['TotalSF'] = X['TotalBsmtSF'] + X['1stFlrSF'] + X['2ndFlrSF']\n",
        "df_test['TotalSF'] = df_test['TotalBsmtSF'] + df_test['1stFlrSF'] + df_test['2ndFlrSF']\n",
        "\n",
        "X['TotalBathrooms'] = X['FullBath'] + (0.5 * X['HalfBath']) + X['BsmtFullBath'] + (0.5 * X['BsmtHalfBath'])\n",
        "df_test['TotalBathrooms'] = df_test['FullBath'] + (0.5 * df_test['HalfBath']) + df_test['BsmtFullBath'] + (0.5 * df_test['BsmtHalfBath'])\n",
        "\n",
        "colunas_categoricas_nominais = ['MSZoning', 'LandContour', 'Street', 'Utilities', 'LotConfig', 'Neighborhood', 'Condition1', 'Condition2', 'BldgType', 'HouseStyle', 'RoofStyle', 'RoofMatl', 'Exterior1st', 'Exterior2nd', 'MasVnrType', 'Foundation', 'Heating', 'Electrical', 'Functional', 'GarageType', 'PavedDrive', 'SaleType', 'SaleCondition']\n",
        "colunas_categoricas_ordinais = ['LotShape', 'OverallCond', 'OverallQual', 'LandSlope', 'ExterQual', 'ExterCond', 'BsmtQual', 'BsmtCond', 'BsmtExposure', 'BsmtFinType1', 'BsmtFinType2', 'HeatingQC', 'KitchenQual', 'FireplaceQu', 'GarageFinish', 'GarageQual', 'GarageCond']\n",
        "\n",
        "colunas_numericas_df = X.select_dtypes(include=['int64', 'float64'])\n",
        "colunas_a_remover_num = ['Id', 'OverallQual', 'OverallCond'] + cols_ingredientes\n",
        "colunas_numericas_df = colunas_numericas_df.drop(columns=colunas_a_remover_num, axis=1, errors='ignore')\n",
        "\n",
        "lista_colunas_numericas = colunas_numericas_df.columns.tolist()\n",
        "\n",
        "if 'TotalSF' not in lista_colunas_numericas:\n",
        "    lista_colunas_numericas.append('TotalSF')\n",
        "if 'TotalBathrooms' not in lista_colunas_numericas:\n",
        "    lista_colunas_numericas.append('TotalBathrooms')"
      ],
      "metadata": {
        "id": "vRgfKM1X3OmU"
      },
      "execution_count": null,
      "outputs": []
    },
    {
      "cell_type": "code",
      "source": [
        "lotshape_order = ['Reg', 'IR1', 'IR2', 'IR3']\n",
        "overallcond_order = [1, 2, 3, 4, 5, 6, 7, 8, 9, 10]\n",
        "overallqual_order = [1, 2, 3, 4, 5, 6, 7, 8, 9, 10]\n",
        "landslope_order = ['Gtl', 'Mod', 'Sev']\n",
        "exterqual_order = ['Po', 'Fa', 'TA', 'Gd', 'Ex']\n",
        "extercond_order = ['Po', 'Fa', 'TA', 'Gd', 'Ex']\n",
        "bsmtqual_order = ['NA', 'Po', 'Fa', 'TA', 'Gd', 'Ex']\n",
        "bsmtcond_order = ['NA', 'Po', 'Fa', 'TA', 'Gd', 'Ex']\n",
        "bsmtexposure_order = ['NA', 'No', 'Mn', 'Av', 'Gd']\n",
        "bsmtfintype1_order = ['NA', 'Unf', 'LwQ', 'Rec', 'BLQ', 'ALQ', 'GLQ']\n",
        "bsmtfintype2_order = ['NA', 'Unf', 'LwQ', 'Rec', 'BLQ', 'ALQ', 'GLQ']\n",
        "heatingqc_order = ['Po', 'Fa', 'TA', 'Gd', 'Ex']\n",
        "kitchenqual_order = ['Po', 'Fa', 'TA', 'Gd', 'Ex']\n",
        "fireplacequ_order = ['NA', 'Po', 'Fa', 'TA', 'Gd', 'Ex']\n",
        "garagefinish_order = ['NA', 'Unf', 'RFn', 'Fin']\n",
        "garagequal_order = ['NA', 'Po', 'Fa', 'TA', 'Gd', 'Ex']\n",
        "garagecond_order = ['NA', 'Po', 'Fa', 'TA', 'Gd', 'Ex']\n",
        "\n",
        "lista_de_ordens = [lotshape_order, overallcond_order, overallqual_order, landslope_order, exterqual_order, extercond_order, bsmtqual_order, bsmtcond_order, bsmtexposure_order, bsmtfintype1_order, bsmtfintype2_order,\n",
        "                 heatingqc_order, kitchenqual_order, fireplacequ_order, garagefinish_order, garagequal_order, garagecond_order]"
      ],
      "metadata": {
        "id": "_b9pouNy3uE6"
      },
      "execution_count": null,
      "outputs": []
    },
    {
      "cell_type": "code",
      "source": [
        "pipeline_numerica = Pipeline(steps=[\n",
        "    ('imputer', SimpleImputer(strategy='median')),\n",
        "    ('scaler', StandardScaler())\n",
        "])\n",
        "pipeline_categorica_nominal = Pipeline(steps=[\n",
        "    ('imputer', SimpleImputer(strategy='constant', fill_value='Missing')),\n",
        "    ('onehot', OneHotEncoder(handle_unknown='ignore', sparse_output=False))\n",
        "])\n",
        "pipeline_categorica_ordinal = Pipeline(steps=[\n",
        "    ('imputer', SimpleImputer(strategy='constant', fill_value='NA')),\n",
        "    # O 'use_encoded_value' faz com que não ocorra um erro quando um valor novo aparecer durante a execução\n",
        "    # dos X_valid, e esse valor será substituido pelo unknown_value, que é '-1'\n",
        "    ('ordinal', OrdinalEncoder(categories=lista_de_ordens, handle_unknown='use_encoded_value', unknown_value=-1))\n",
        "])\n",
        "\n",
        "pre_processador = ColumnTransformer(\n",
        "    transformers=[\n",
        "        ('num', pipeline_numerica, lista_colunas_numericas),\n",
        "        ('cat_nom', pipeline_categorica_nominal, colunas_categoricas_nominais),\n",
        "        ('cat_ord', pipeline_categorica_ordinal, colunas_categoricas_ordinais)\n",
        "    ],\n",
        "    remainder='drop'\n",
        ")\n",
        "\n",
        "pipeline_base_xgb = Pipeline(steps=[\n",
        "    ('preprocessor', pre_processador),\n",
        "    ('classifier', XGBRegressor(\n",
        "        tree_method='hist',\n",
        "        random_state=42\n",
        "    ))\n",
        "])"
      ],
      "metadata": {
        "id": "mDsQcrmE4BcW"
      },
      "execution_count": null,
      "outputs": []
    },
    {
      "cell_type": "code",
      "source": [
        "param_grid = {\n",
        "    'classifier__learning_rate': [0.01, 0.03, 0.05],\n",
        "    'classifier__n_estimators': [1000, 1500, 2000],\n",
        "    'classifier__max_depth': [3, 4, 5],\n",
        "    'classifier__subsample': [0.6, 0.7, 0.8],\n",
        "    'classifier__colsample_bytree': [0.6, 0.7, 0.8]\n",
        "}\n",
        "\n",
        "rand_search = RandomizedSearchCV(\n",
        "    estimator=pipeline_base_xgb,\n",
        "    param_distributions=param_grid,\n",
        "    n_iter=50,\n",
        "    cv=5,\n",
        "    scoring='neg_root_mean_squared_error',\n",
        "    n_jobs=-1,\n",
        "    random_state=43,\n",
        "    verbose=2\n",
        ")\n",
        "\n",
        "rand_search.fit(X, y)\n",
        "\n",
        "print(f\"Melhor score: {-rand_search.best_score_}\")\n",
        "print(f\"Melhores parâmetros: {rand_search.best_params_}\")"
      ],
      "metadata": {
        "id": "SzbO3qj34D-y"
      },
      "execution_count": null,
      "outputs": []
    }
  ]
}